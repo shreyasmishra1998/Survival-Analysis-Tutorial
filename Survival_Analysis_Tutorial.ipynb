{
  "nbformat": 4,
  "nbformat_minor": 0,
  "metadata": {
    "colab": {
      "name": "Survival Analysis Tutorial.ipynb",
      "provenance": [],
      "collapsed_sections": []
    },
    "kernelspec": {
      "name": "python3",
      "display_name": "Python 3"
    },
    "accelerator": "GPU"
  },
  "cells": [
    {
      "cell_type": "code",
      "metadata": {
        "id": "M3_lsRd4l021",
        "colab_type": "code",
        "colab": {
          "base_uri": "https://localhost:8080/",
          "height": 204
        },
        "outputId": "9badcd88-1a16-4e58-c811-7c5af077c1fa"
      },
      "source": [
        "!wget 'http://www-eio.upc.edu/~pau/cms/rdata/csv/KMsurv/lung.csv'"
      ],
      "execution_count": 1,
      "outputs": [
        {
          "output_type": "stream",
          "text": [
            "--2020-07-23 13:06:32--  http://www-eio.upc.edu/~pau/cms/rdata/csv/KMsurv/lung.csv\n",
            "Resolving www-eio.upc.edu (www-eio.upc.edu)... 147.83.24.219\n",
            "Connecting to www-eio.upc.edu (www-eio.upc.edu)|147.83.24.219|:80... connected.\n",
            "HTTP request sent, awaiting response... 200 OK\n",
            "Length: 7856 (7.7K) [text/csv]\n",
            "Saving to: ‘lung.csv’\n",
            "\n",
            "\rlung.csv              0%[                    ]       0  --.-KB/s               \rlung.csv            100%[===================>]   7.67K  --.-KB/s    in 0s      \n",
            "\n",
            "2020-07-23 13:06:33 (34.9 MB/s) - ‘lung.csv’ saved [7856/7856]\n",
            "\n"
          ],
          "name": "stdout"
        }
      ]
    },
    {
      "cell_type": "code",
      "metadata": {
        "id": "Kf6YbBZSnNpv",
        "colab_type": "code",
        "colab": {}
      },
      "source": [
        "!pip install lifelines"
      ],
      "execution_count": null,
      "outputs": []
    },
    {
      "cell_type": "code",
      "metadata": {
        "id": "z70_wWqLmwam",
        "colab_type": "code",
        "colab": {}
      },
      "source": [
        "import pandas as pd\n",
        "import numpy as np\n",
        "import matplotlib.pyplot as plt\n",
        "from lifelines import KaplanMeierFitter"
      ],
      "execution_count": 3,
      "outputs": []
    },
    {
      "cell_type": "code",
      "metadata": {
        "id": "3uRko78fnZ2T",
        "colab_type": "code",
        "colab": {
          "base_uri": "https://localhost:8080/",
          "height": 419
        },
        "outputId": "affcedd4-f768-4b34-e451-133a49d08006"
      },
      "source": [
        "data = pd.read_csv('/content/lung.csv')\n",
        "data"
      ],
      "execution_count": 4,
      "outputs": [
        {
          "output_type": "execute_result",
          "data": {
            "text/html": [
              "<div>\n",
              "<style scoped>\n",
              "    .dataframe tbody tr th:only-of-type {\n",
              "        vertical-align: middle;\n",
              "    }\n",
              "\n",
              "    .dataframe tbody tr th {\n",
              "        vertical-align: top;\n",
              "    }\n",
              "\n",
              "    .dataframe thead th {\n",
              "        text-align: right;\n",
              "    }\n",
              "</style>\n",
              "<table border=\"1\" class=\"dataframe\">\n",
              "  <thead>\n",
              "    <tr style=\"text-align: right;\">\n",
              "      <th></th>\n",
              "      <th>Unnamed: 0</th>\n",
              "      <th>inst</th>\n",
              "      <th>time</th>\n",
              "      <th>status</th>\n",
              "      <th>age</th>\n",
              "      <th>sex</th>\n",
              "      <th>ph.ecog</th>\n",
              "      <th>ph.karno</th>\n",
              "      <th>pat.karno</th>\n",
              "      <th>meal.cal</th>\n",
              "      <th>wt.loss</th>\n",
              "    </tr>\n",
              "  </thead>\n",
              "  <tbody>\n",
              "    <tr>\n",
              "      <th>0</th>\n",
              "      <td>1</td>\n",
              "      <td>3.0</td>\n",
              "      <td>306</td>\n",
              "      <td>2</td>\n",
              "      <td>74</td>\n",
              "      <td>1</td>\n",
              "      <td>1.0</td>\n",
              "      <td>90.0</td>\n",
              "      <td>100.0</td>\n",
              "      <td>1175.0</td>\n",
              "      <td>NaN</td>\n",
              "    </tr>\n",
              "    <tr>\n",
              "      <th>1</th>\n",
              "      <td>2</td>\n",
              "      <td>3.0</td>\n",
              "      <td>455</td>\n",
              "      <td>2</td>\n",
              "      <td>68</td>\n",
              "      <td>1</td>\n",
              "      <td>0.0</td>\n",
              "      <td>90.0</td>\n",
              "      <td>90.0</td>\n",
              "      <td>1225.0</td>\n",
              "      <td>15.0</td>\n",
              "    </tr>\n",
              "    <tr>\n",
              "      <th>2</th>\n",
              "      <td>3</td>\n",
              "      <td>3.0</td>\n",
              "      <td>1010</td>\n",
              "      <td>1</td>\n",
              "      <td>56</td>\n",
              "      <td>1</td>\n",
              "      <td>0.0</td>\n",
              "      <td>90.0</td>\n",
              "      <td>90.0</td>\n",
              "      <td>NaN</td>\n",
              "      <td>15.0</td>\n",
              "    </tr>\n",
              "    <tr>\n",
              "      <th>3</th>\n",
              "      <td>4</td>\n",
              "      <td>5.0</td>\n",
              "      <td>210</td>\n",
              "      <td>2</td>\n",
              "      <td>57</td>\n",
              "      <td>1</td>\n",
              "      <td>1.0</td>\n",
              "      <td>90.0</td>\n",
              "      <td>60.0</td>\n",
              "      <td>1150.0</td>\n",
              "      <td>11.0</td>\n",
              "    </tr>\n",
              "    <tr>\n",
              "      <th>4</th>\n",
              "      <td>5</td>\n",
              "      <td>1.0</td>\n",
              "      <td>883</td>\n",
              "      <td>2</td>\n",
              "      <td>60</td>\n",
              "      <td>1</td>\n",
              "      <td>0.0</td>\n",
              "      <td>100.0</td>\n",
              "      <td>90.0</td>\n",
              "      <td>NaN</td>\n",
              "      <td>0.0</td>\n",
              "    </tr>\n",
              "    <tr>\n",
              "      <th>...</th>\n",
              "      <td>...</td>\n",
              "      <td>...</td>\n",
              "      <td>...</td>\n",
              "      <td>...</td>\n",
              "      <td>...</td>\n",
              "      <td>...</td>\n",
              "      <td>...</td>\n",
              "      <td>...</td>\n",
              "      <td>...</td>\n",
              "      <td>...</td>\n",
              "      <td>...</td>\n",
              "    </tr>\n",
              "    <tr>\n",
              "      <th>223</th>\n",
              "      <td>224</td>\n",
              "      <td>1.0</td>\n",
              "      <td>188</td>\n",
              "      <td>1</td>\n",
              "      <td>77</td>\n",
              "      <td>1</td>\n",
              "      <td>1.0</td>\n",
              "      <td>80.0</td>\n",
              "      <td>60.0</td>\n",
              "      <td>NaN</td>\n",
              "      <td>3.0</td>\n",
              "    </tr>\n",
              "    <tr>\n",
              "      <th>224</th>\n",
              "      <td>225</td>\n",
              "      <td>13.0</td>\n",
              "      <td>191</td>\n",
              "      <td>1</td>\n",
              "      <td>39</td>\n",
              "      <td>1</td>\n",
              "      <td>0.0</td>\n",
              "      <td>90.0</td>\n",
              "      <td>90.0</td>\n",
              "      <td>2350.0</td>\n",
              "      <td>-5.0</td>\n",
              "    </tr>\n",
              "    <tr>\n",
              "      <th>225</th>\n",
              "      <td>226</td>\n",
              "      <td>32.0</td>\n",
              "      <td>105</td>\n",
              "      <td>1</td>\n",
              "      <td>75</td>\n",
              "      <td>2</td>\n",
              "      <td>2.0</td>\n",
              "      <td>60.0</td>\n",
              "      <td>70.0</td>\n",
              "      <td>1025.0</td>\n",
              "      <td>5.0</td>\n",
              "    </tr>\n",
              "    <tr>\n",
              "      <th>226</th>\n",
              "      <td>227</td>\n",
              "      <td>6.0</td>\n",
              "      <td>174</td>\n",
              "      <td>1</td>\n",
              "      <td>66</td>\n",
              "      <td>1</td>\n",
              "      <td>1.0</td>\n",
              "      <td>90.0</td>\n",
              "      <td>100.0</td>\n",
              "      <td>1075.0</td>\n",
              "      <td>1.0</td>\n",
              "    </tr>\n",
              "    <tr>\n",
              "      <th>227</th>\n",
              "      <td>228</td>\n",
              "      <td>22.0</td>\n",
              "      <td>177</td>\n",
              "      <td>1</td>\n",
              "      <td>58</td>\n",
              "      <td>2</td>\n",
              "      <td>1.0</td>\n",
              "      <td>80.0</td>\n",
              "      <td>90.0</td>\n",
              "      <td>1060.0</td>\n",
              "      <td>0.0</td>\n",
              "    </tr>\n",
              "  </tbody>\n",
              "</table>\n",
              "<p>228 rows × 11 columns</p>\n",
              "</div>"
            ],
            "text/plain": [
              "     Unnamed: 0  inst  time  status  ...  ph.karno  pat.karno  meal.cal  wt.loss\n",
              "0             1   3.0   306       2  ...      90.0      100.0    1175.0      NaN\n",
              "1             2   3.0   455       2  ...      90.0       90.0    1225.0     15.0\n",
              "2             3   3.0  1010       1  ...      90.0       90.0       NaN     15.0\n",
              "3             4   5.0   210       2  ...      90.0       60.0    1150.0     11.0\n",
              "4             5   1.0   883       2  ...     100.0       90.0       NaN      0.0\n",
              "..          ...   ...   ...     ...  ...       ...        ...       ...      ...\n",
              "223         224   1.0   188       1  ...      80.0       60.0       NaN      3.0\n",
              "224         225  13.0   191       1  ...      90.0       90.0    2350.0     -5.0\n",
              "225         226  32.0   105       1  ...      60.0       70.0    1025.0      5.0\n",
              "226         227   6.0   174       1  ...      90.0      100.0    1075.0      1.0\n",
              "227         228  22.0   177       1  ...      80.0       90.0    1060.0      0.0\n",
              "\n",
              "[228 rows x 11 columns]"
            ]
          },
          "metadata": {
            "tags": []
          },
          "execution_count": 4
        }
      ]
    },
    {
      "cell_type": "code",
      "metadata": {
        "id": "bX5A38MEngvy",
        "colab_type": "code",
        "colab": {
          "base_uri": "https://localhost:8080/",
          "height": 340
        },
        "outputId": "02b6be86-4b04-4dd3-f628-b300b3d2392e"
      },
      "source": [
        "data.info()"
      ],
      "execution_count": 7,
      "outputs": [
        {
          "output_type": "stream",
          "text": [
            "<class 'pandas.core.frame.DataFrame'>\n",
            "RangeIndex: 228 entries, 0 to 227\n",
            "Data columns (total 12 columns):\n",
            " #   Column      Non-Null Count  Dtype  \n",
            "---  ------      --------------  -----  \n",
            " 0   Unnamed: 0  228 non-null    int64  \n",
            " 1   inst        227 non-null    float64\n",
            " 2   time        228 non-null    int64  \n",
            " 3   status      228 non-null    int64  \n",
            " 4   age         228 non-null    int64  \n",
            " 5   sex         228 non-null    int64  \n",
            " 6   ph.ecog     227 non-null    float64\n",
            " 7   ph.karno    227 non-null    float64\n",
            " 8   pat.karno   225 non-null    float64\n",
            " 9   meal.cal    181 non-null    float64\n",
            " 10  wt.loss     214 non-null    float64\n",
            " 11  dead        228 non-null    float64\n",
            "dtypes: float64(7), int64(5)\n",
            "memory usage: 21.5 KB\n"
          ],
          "name": "stdout"
        }
      ]
    },
    {
      "cell_type": "code",
      "metadata": {
        "id": "yr0xZNBqzR2W",
        "colab_type": "code",
        "colab": {}
      },
      "source": [
        "a = data['meal.cal'].fillna(data['meal.cal'].mean())"
      ],
      "execution_count": 51,
      "outputs": []
    },
    {
      "cell_type": "code",
      "metadata": {
        "id": "31zglzSf1f7k",
        "colab_type": "code",
        "colab": {}
      },
      "source": [
        "data.drop(columns=['meal.cal'])"
      ],
      "execution_count": null,
      "outputs": []
    },
    {
      "cell_type": "code",
      "metadata": {
        "id": "QYtM43DH6P9C",
        "colab_type": "code",
        "colab": {}
      },
      "source": [
        "data['meal.cal'] = a\n",
        "data"
      ],
      "execution_count": null,
      "outputs": []
    },
    {
      "cell_type": "code",
      "metadata": {
        "id": "kv7QyVmfn3k6",
        "colab_type": "code",
        "colab": {}
      },
      "source": [
        "data.describe()"
      ],
      "execution_count": null,
      "outputs": []
    },
    {
      "cell_type": "code",
      "metadata": {
        "id": "-e5kkK6Kn59h",
        "colab_type": "code",
        "colab": {}
      },
      "source": [
        "data['sex'].hist()"
      ],
      "execution_count": null,
      "outputs": []
    },
    {
      "cell_type": "code",
      "metadata": {
        "id": "qwlxzey4oOrQ",
        "colab_type": "code",
        "colab": {}
      },
      "source": [
        "kmf = KaplanMeierFitter()"
      ],
      "execution_count": 35,
      "outputs": []
    },
    {
      "cell_type": "code",
      "metadata": {
        "id": "2sGxmlFooXwy",
        "colab_type": "code",
        "colab": {
          "base_uri": "https://localhost:8080/",
          "height": 204
        },
        "outputId": "f5990b87-3eb2-4697-8eef-20a39da6be18"
      },
      "source": [
        "data.loc[data.status==1,'dead'] = 0\n",
        "data.loc[data.status==2,'dead'] = 1\n",
        "data.head()"
      ],
      "execution_count": 68,
      "outputs": [
        {
          "output_type": "execute_result",
          "data": {
            "text/html": [
              "<div>\n",
              "<style scoped>\n",
              "    .dataframe tbody tr th:only-of-type {\n",
              "        vertical-align: middle;\n",
              "    }\n",
              "\n",
              "    .dataframe tbody tr th {\n",
              "        vertical-align: top;\n",
              "    }\n",
              "\n",
              "    .dataframe thead th {\n",
              "        text-align: right;\n",
              "    }\n",
              "</style>\n",
              "<table border=\"1\" class=\"dataframe\">\n",
              "  <thead>\n",
              "    <tr style=\"text-align: right;\">\n",
              "      <th></th>\n",
              "      <th>Unnamed: 0</th>\n",
              "      <th>inst</th>\n",
              "      <th>time</th>\n",
              "      <th>status</th>\n",
              "      <th>age</th>\n",
              "      <th>sex</th>\n",
              "      <th>ph.ecog</th>\n",
              "      <th>ph.karno</th>\n",
              "      <th>pat.karno</th>\n",
              "      <th>meal.cal</th>\n",
              "      <th>wt.loss</th>\n",
              "      <th>dead</th>\n",
              "    </tr>\n",
              "  </thead>\n",
              "  <tbody>\n",
              "    <tr>\n",
              "      <th>0</th>\n",
              "      <td>1</td>\n",
              "      <td>3.0</td>\n",
              "      <td>306</td>\n",
              "      <td>2</td>\n",
              "      <td>74</td>\n",
              "      <td>1</td>\n",
              "      <td>1.0</td>\n",
              "      <td>90.0</td>\n",
              "      <td>100.0</td>\n",
              "      <td>1175.000000</td>\n",
              "      <td>NaN</td>\n",
              "      <td>1.0</td>\n",
              "    </tr>\n",
              "    <tr>\n",
              "      <th>1</th>\n",
              "      <td>2</td>\n",
              "      <td>3.0</td>\n",
              "      <td>455</td>\n",
              "      <td>2</td>\n",
              "      <td>68</td>\n",
              "      <td>1</td>\n",
              "      <td>0.0</td>\n",
              "      <td>90.0</td>\n",
              "      <td>90.0</td>\n",
              "      <td>1225.000000</td>\n",
              "      <td>15.0</td>\n",
              "      <td>1.0</td>\n",
              "    </tr>\n",
              "    <tr>\n",
              "      <th>2</th>\n",
              "      <td>3</td>\n",
              "      <td>3.0</td>\n",
              "      <td>1010</td>\n",
              "      <td>1</td>\n",
              "      <td>56</td>\n",
              "      <td>1</td>\n",
              "      <td>0.0</td>\n",
              "      <td>90.0</td>\n",
              "      <td>90.0</td>\n",
              "      <td>928.779006</td>\n",
              "      <td>15.0</td>\n",
              "      <td>0.0</td>\n",
              "    </tr>\n",
              "    <tr>\n",
              "      <th>3</th>\n",
              "      <td>4</td>\n",
              "      <td>5.0</td>\n",
              "      <td>210</td>\n",
              "      <td>2</td>\n",
              "      <td>57</td>\n",
              "      <td>1</td>\n",
              "      <td>1.0</td>\n",
              "      <td>90.0</td>\n",
              "      <td>60.0</td>\n",
              "      <td>1150.000000</td>\n",
              "      <td>11.0</td>\n",
              "      <td>1.0</td>\n",
              "    </tr>\n",
              "    <tr>\n",
              "      <th>4</th>\n",
              "      <td>5</td>\n",
              "      <td>1.0</td>\n",
              "      <td>883</td>\n",
              "      <td>2</td>\n",
              "      <td>60</td>\n",
              "      <td>1</td>\n",
              "      <td>0.0</td>\n",
              "      <td>100.0</td>\n",
              "      <td>90.0</td>\n",
              "      <td>928.779006</td>\n",
              "      <td>0.0</td>\n",
              "      <td>1.0</td>\n",
              "    </tr>\n",
              "  </tbody>\n",
              "</table>\n",
              "</div>"
            ],
            "text/plain": [
              "   Unnamed: 0  inst  time  status  ...  pat.karno     meal.cal  wt.loss  dead\n",
              "0           1   3.0   306       2  ...      100.0  1175.000000      NaN   1.0\n",
              "1           2   3.0   455       2  ...       90.0  1225.000000     15.0   1.0\n",
              "2           3   3.0  1010       1  ...       90.0   928.779006     15.0   0.0\n",
              "3           4   5.0   210       2  ...       60.0  1150.000000     11.0   1.0\n",
              "4           5   1.0   883       2  ...       90.0   928.779006      0.0   1.0\n",
              "\n",
              "[5 rows x 12 columns]"
            ]
          },
          "metadata": {
            "tags": []
          },
          "execution_count": 68
        }
      ]
    },
    {
      "cell_type": "code",
      "metadata": {
        "id": "SPSER163pzVM",
        "colab_type": "code",
        "colab": {
          "base_uri": "https://localhost:8080/",
          "height": 34
        },
        "outputId": "11d64020-d2bd-4516-b441-d062b9fd2d73"
      },
      "source": [
        "kmf.fit(durations=data['time'],event_observed=data['dead'])"
      ],
      "execution_count": 67,
      "outputs": [
        {
          "output_type": "execute_result",
          "data": {
            "text/plain": [
              "<lifelines.KaplanMeierFitter:\"KM_estimate\", fitted with 228 total observations, 63 right-censored observations>"
            ]
          },
          "metadata": {
            "tags": []
          },
          "execution_count": 67
        }
      ]
    },
    {
      "cell_type": "code",
      "metadata": {
        "id": "R9-36hi7q1NM",
        "colab_type": "code",
        "colab": {
          "base_uri": "https://localhost:8080/",
          "height": 450
        },
        "outputId": "30bc8758-af2e-4e5a-cc13-bcf0ef3bc1ce"
      },
      "source": [
        "kmf.event_table"
      ],
      "execution_count": 38,
      "outputs": [
        {
          "output_type": "execute_result",
          "data": {
            "text/html": [
              "<div>\n",
              "<style scoped>\n",
              "    .dataframe tbody tr th:only-of-type {\n",
              "        vertical-align: middle;\n",
              "    }\n",
              "\n",
              "    .dataframe tbody tr th {\n",
              "        vertical-align: top;\n",
              "    }\n",
              "\n",
              "    .dataframe thead th {\n",
              "        text-align: right;\n",
              "    }\n",
              "</style>\n",
              "<table border=\"1\" class=\"dataframe\">\n",
              "  <thead>\n",
              "    <tr style=\"text-align: right;\">\n",
              "      <th></th>\n",
              "      <th>removed</th>\n",
              "      <th>observed</th>\n",
              "      <th>censored</th>\n",
              "      <th>entrance</th>\n",
              "      <th>at_risk</th>\n",
              "    </tr>\n",
              "    <tr>\n",
              "      <th>event_at</th>\n",
              "      <th></th>\n",
              "      <th></th>\n",
              "      <th></th>\n",
              "      <th></th>\n",
              "      <th></th>\n",
              "    </tr>\n",
              "  </thead>\n",
              "  <tbody>\n",
              "    <tr>\n",
              "      <th>0.0</th>\n",
              "      <td>0</td>\n",
              "      <td>0</td>\n",
              "      <td>0</td>\n",
              "      <td>228</td>\n",
              "      <td>228</td>\n",
              "    </tr>\n",
              "    <tr>\n",
              "      <th>5.0</th>\n",
              "      <td>1</td>\n",
              "      <td>1</td>\n",
              "      <td>0</td>\n",
              "      <td>0</td>\n",
              "      <td>228</td>\n",
              "    </tr>\n",
              "    <tr>\n",
              "      <th>11.0</th>\n",
              "      <td>3</td>\n",
              "      <td>3</td>\n",
              "      <td>0</td>\n",
              "      <td>0</td>\n",
              "      <td>227</td>\n",
              "    </tr>\n",
              "    <tr>\n",
              "      <th>12.0</th>\n",
              "      <td>1</td>\n",
              "      <td>1</td>\n",
              "      <td>0</td>\n",
              "      <td>0</td>\n",
              "      <td>224</td>\n",
              "    </tr>\n",
              "    <tr>\n",
              "      <th>13.0</th>\n",
              "      <td>2</td>\n",
              "      <td>2</td>\n",
              "      <td>0</td>\n",
              "      <td>0</td>\n",
              "      <td>223</td>\n",
              "    </tr>\n",
              "    <tr>\n",
              "      <th>...</th>\n",
              "      <td>...</td>\n",
              "      <td>...</td>\n",
              "      <td>...</td>\n",
              "      <td>...</td>\n",
              "      <td>...</td>\n",
              "    </tr>\n",
              "    <tr>\n",
              "      <th>840.0</th>\n",
              "      <td>1</td>\n",
              "      <td>0</td>\n",
              "      <td>1</td>\n",
              "      <td>0</td>\n",
              "      <td>5</td>\n",
              "    </tr>\n",
              "    <tr>\n",
              "      <th>883.0</th>\n",
              "      <td>1</td>\n",
              "      <td>1</td>\n",
              "      <td>0</td>\n",
              "      <td>0</td>\n",
              "      <td>4</td>\n",
              "    </tr>\n",
              "    <tr>\n",
              "      <th>965.0</th>\n",
              "      <td>1</td>\n",
              "      <td>0</td>\n",
              "      <td>1</td>\n",
              "      <td>0</td>\n",
              "      <td>3</td>\n",
              "    </tr>\n",
              "    <tr>\n",
              "      <th>1010.0</th>\n",
              "      <td>1</td>\n",
              "      <td>0</td>\n",
              "      <td>1</td>\n",
              "      <td>0</td>\n",
              "      <td>2</td>\n",
              "    </tr>\n",
              "    <tr>\n",
              "      <th>1022.0</th>\n",
              "      <td>1</td>\n",
              "      <td>0</td>\n",
              "      <td>1</td>\n",
              "      <td>0</td>\n",
              "      <td>1</td>\n",
              "    </tr>\n",
              "  </tbody>\n",
              "</table>\n",
              "<p>187 rows × 5 columns</p>\n",
              "</div>"
            ],
            "text/plain": [
              "          removed  observed  censored  entrance  at_risk\n",
              "event_at                                                \n",
              "0.0             0         0         0       228      228\n",
              "5.0             1         1         0         0      228\n",
              "11.0            3         3         0         0      227\n",
              "12.0            1         1         0         0      224\n",
              "13.0            2         2         0         0      223\n",
              "...           ...       ...       ...       ...      ...\n",
              "840.0           1         0         1         0        5\n",
              "883.0           1         1         0         0        4\n",
              "965.0           1         0         1         0        3\n",
              "1010.0          1         0         1         0        2\n",
              "1022.0          1         0         1         0        1\n",
              "\n",
              "[187 rows x 5 columns]"
            ]
          },
          "metadata": {
            "tags": []
          },
          "execution_count": 38
        }
      ]
    },
    {
      "cell_type": "code",
      "metadata": {
        "id": "2mkWwjaI5G-t",
        "colab_type": "code",
        "colab": {}
      },
      "source": [
        "data.dropna()"
      ],
      "execution_count": null,
      "outputs": []
    },
    {
      "cell_type": "code",
      "metadata": {
        "id": "vjntlpNQ5Pft",
        "colab_type": "code",
        "colab": {
          "base_uri": "https://localhost:8080/",
          "height": 419
        },
        "outputId": "b0b2609b-1da8-49a2-c3cb-3834e355f2c7"
      },
      "source": [
        ""
      ],
      "execution_count": 50,
      "outputs": [
        {
          "output_type": "execute_result",
          "data": {
            "text/html": [
              "<div>\n",
              "<style scoped>\n",
              "    .dataframe tbody tr th:only-of-type {\n",
              "        vertical-align: middle;\n",
              "    }\n",
              "\n",
              "    .dataframe tbody tr th {\n",
              "        vertical-align: top;\n",
              "    }\n",
              "\n",
              "    .dataframe thead th {\n",
              "        text-align: right;\n",
              "    }\n",
              "</style>\n",
              "<table border=\"1\" class=\"dataframe\">\n",
              "  <thead>\n",
              "    <tr style=\"text-align: right;\">\n",
              "      <th></th>\n",
              "      <th>Unnamed: 0</th>\n",
              "      <th>inst</th>\n",
              "      <th>time</th>\n",
              "      <th>status</th>\n",
              "      <th>age</th>\n",
              "      <th>sex</th>\n",
              "      <th>ph.ecog</th>\n",
              "      <th>ph.karno</th>\n",
              "      <th>pat.karno</th>\n",
              "      <th>meal.cal</th>\n",
              "      <th>wt.loss</th>\n",
              "      <th>dead</th>\n",
              "    </tr>\n",
              "  </thead>\n",
              "  <tbody>\n",
              "    <tr>\n",
              "      <th>0</th>\n",
              "      <td>1</td>\n",
              "      <td>3.0</td>\n",
              "      <td>306</td>\n",
              "      <td>2</td>\n",
              "      <td>74</td>\n",
              "      <td>1</td>\n",
              "      <td>1.0</td>\n",
              "      <td>90.0</td>\n",
              "      <td>100.0</td>\n",
              "      <td>1175.0</td>\n",
              "      <td>NaN</td>\n",
              "      <td>1.0</td>\n",
              "    </tr>\n",
              "    <tr>\n",
              "      <th>1</th>\n",
              "      <td>2</td>\n",
              "      <td>3.0</td>\n",
              "      <td>455</td>\n",
              "      <td>2</td>\n",
              "      <td>68</td>\n",
              "      <td>1</td>\n",
              "      <td>0.0</td>\n",
              "      <td>90.0</td>\n",
              "      <td>90.0</td>\n",
              "      <td>1225.0</td>\n",
              "      <td>15.0</td>\n",
              "      <td>1.0</td>\n",
              "    </tr>\n",
              "    <tr>\n",
              "      <th>2</th>\n",
              "      <td>3</td>\n",
              "      <td>3.0</td>\n",
              "      <td>1010</td>\n",
              "      <td>1</td>\n",
              "      <td>56</td>\n",
              "      <td>1</td>\n",
              "      <td>0.0</td>\n",
              "      <td>90.0</td>\n",
              "      <td>90.0</td>\n",
              "      <td>NaN</td>\n",
              "      <td>15.0</td>\n",
              "      <td>0.0</td>\n",
              "    </tr>\n",
              "    <tr>\n",
              "      <th>3</th>\n",
              "      <td>4</td>\n",
              "      <td>5.0</td>\n",
              "      <td>210</td>\n",
              "      <td>2</td>\n",
              "      <td>57</td>\n",
              "      <td>1</td>\n",
              "      <td>1.0</td>\n",
              "      <td>90.0</td>\n",
              "      <td>60.0</td>\n",
              "      <td>1150.0</td>\n",
              "      <td>11.0</td>\n",
              "      <td>1.0</td>\n",
              "    </tr>\n",
              "    <tr>\n",
              "      <th>4</th>\n",
              "      <td>5</td>\n",
              "      <td>1.0</td>\n",
              "      <td>883</td>\n",
              "      <td>2</td>\n",
              "      <td>60</td>\n",
              "      <td>1</td>\n",
              "      <td>0.0</td>\n",
              "      <td>100.0</td>\n",
              "      <td>90.0</td>\n",
              "      <td>NaN</td>\n",
              "      <td>0.0</td>\n",
              "      <td>1.0</td>\n",
              "    </tr>\n",
              "    <tr>\n",
              "      <th>...</th>\n",
              "      <td>...</td>\n",
              "      <td>...</td>\n",
              "      <td>...</td>\n",
              "      <td>...</td>\n",
              "      <td>...</td>\n",
              "      <td>...</td>\n",
              "      <td>...</td>\n",
              "      <td>...</td>\n",
              "      <td>...</td>\n",
              "      <td>...</td>\n",
              "      <td>...</td>\n",
              "      <td>...</td>\n",
              "    </tr>\n",
              "    <tr>\n",
              "      <th>223</th>\n",
              "      <td>224</td>\n",
              "      <td>1.0</td>\n",
              "      <td>188</td>\n",
              "      <td>1</td>\n",
              "      <td>77</td>\n",
              "      <td>1</td>\n",
              "      <td>1.0</td>\n",
              "      <td>80.0</td>\n",
              "      <td>60.0</td>\n",
              "      <td>NaN</td>\n",
              "      <td>3.0</td>\n",
              "      <td>0.0</td>\n",
              "    </tr>\n",
              "    <tr>\n",
              "      <th>224</th>\n",
              "      <td>225</td>\n",
              "      <td>13.0</td>\n",
              "      <td>191</td>\n",
              "      <td>1</td>\n",
              "      <td>39</td>\n",
              "      <td>1</td>\n",
              "      <td>0.0</td>\n",
              "      <td>90.0</td>\n",
              "      <td>90.0</td>\n",
              "      <td>2350.0</td>\n",
              "      <td>-5.0</td>\n",
              "      <td>0.0</td>\n",
              "    </tr>\n",
              "    <tr>\n",
              "      <th>225</th>\n",
              "      <td>226</td>\n",
              "      <td>32.0</td>\n",
              "      <td>105</td>\n",
              "      <td>1</td>\n",
              "      <td>75</td>\n",
              "      <td>2</td>\n",
              "      <td>2.0</td>\n",
              "      <td>60.0</td>\n",
              "      <td>70.0</td>\n",
              "      <td>1025.0</td>\n",
              "      <td>5.0</td>\n",
              "      <td>0.0</td>\n",
              "    </tr>\n",
              "    <tr>\n",
              "      <th>226</th>\n",
              "      <td>227</td>\n",
              "      <td>6.0</td>\n",
              "      <td>174</td>\n",
              "      <td>1</td>\n",
              "      <td>66</td>\n",
              "      <td>1</td>\n",
              "      <td>1.0</td>\n",
              "      <td>90.0</td>\n",
              "      <td>100.0</td>\n",
              "      <td>1075.0</td>\n",
              "      <td>1.0</td>\n",
              "      <td>0.0</td>\n",
              "    </tr>\n",
              "    <tr>\n",
              "      <th>227</th>\n",
              "      <td>228</td>\n",
              "      <td>22.0</td>\n",
              "      <td>177</td>\n",
              "      <td>1</td>\n",
              "      <td>58</td>\n",
              "      <td>2</td>\n",
              "      <td>1.0</td>\n",
              "      <td>80.0</td>\n",
              "      <td>90.0</td>\n",
              "      <td>1060.0</td>\n",
              "      <td>0.0</td>\n",
              "      <td>0.0</td>\n",
              "    </tr>\n",
              "  </tbody>\n",
              "</table>\n",
              "<p>228 rows × 12 columns</p>\n",
              "</div>"
            ],
            "text/plain": [
              "     Unnamed: 0  inst  time  status  ...  pat.karno  meal.cal  wt.loss  dead\n",
              "0             1   3.0   306       2  ...      100.0    1175.0      NaN   1.0\n",
              "1             2   3.0   455       2  ...       90.0    1225.0     15.0   1.0\n",
              "2             3   3.0  1010       1  ...       90.0       NaN     15.0   0.0\n",
              "3             4   5.0   210       2  ...       60.0    1150.0     11.0   1.0\n",
              "4             5   1.0   883       2  ...       90.0       NaN      0.0   1.0\n",
              "..          ...   ...   ...     ...  ...        ...       ...      ...   ...\n",
              "223         224   1.0   188       1  ...       60.0       NaN      3.0   0.0\n",
              "224         225  13.0   191       1  ...       90.0    2350.0     -5.0   0.0\n",
              "225         226  32.0   105       1  ...       70.0    1025.0      5.0   0.0\n",
              "226         227   6.0   174       1  ...      100.0    1075.0      1.0   0.0\n",
              "227         228  22.0   177       1  ...       90.0    1060.0      0.0   0.0\n",
              "\n",
              "[228 rows x 12 columns]"
            ]
          },
          "metadata": {
            "tags": []
          },
          "execution_count": 50
        }
      ]
    },
    {
      "cell_type": "code",
      "metadata": {
        "id": "njrZwgA_25fp",
        "colab_type": "code",
        "colab": {
          "base_uri": "https://localhost:8080/",
          "height": 450
        },
        "outputId": "13a9b1b6-6e82-4a9b-c8ff-73f95cbdf1e2"
      },
      "source": [
        "kmf.fit(durations=data['meal.cal'],event_observed=data['dead'])\n",
        "kmf.event_table"
      ],
      "execution_count": 60,
      "outputs": [
        {
          "output_type": "execute_result",
          "data": {
            "text/html": [
              "<div>\n",
              "<style scoped>\n",
              "    .dataframe tbody tr th:only-of-type {\n",
              "        vertical-align: middle;\n",
              "    }\n",
              "\n",
              "    .dataframe tbody tr th {\n",
              "        vertical-align: top;\n",
              "    }\n",
              "\n",
              "    .dataframe thead th {\n",
              "        text-align: right;\n",
              "    }\n",
              "</style>\n",
              "<table border=\"1\" class=\"dataframe\">\n",
              "  <thead>\n",
              "    <tr style=\"text-align: right;\">\n",
              "      <th></th>\n",
              "      <th>removed</th>\n",
              "      <th>observed</th>\n",
              "      <th>censored</th>\n",
              "      <th>entrance</th>\n",
              "      <th>at_risk</th>\n",
              "    </tr>\n",
              "    <tr>\n",
              "      <th>event_at</th>\n",
              "      <th></th>\n",
              "      <th></th>\n",
              "      <th></th>\n",
              "      <th></th>\n",
              "      <th></th>\n",
              "    </tr>\n",
              "  </thead>\n",
              "  <tbody>\n",
              "    <tr>\n",
              "      <th>0.0</th>\n",
              "      <td>0</td>\n",
              "      <td>0</td>\n",
              "      <td>0</td>\n",
              "      <td>228</td>\n",
              "      <td>228</td>\n",
              "    </tr>\n",
              "    <tr>\n",
              "      <th>96.0</th>\n",
              "      <td>1</td>\n",
              "      <td>0</td>\n",
              "      <td>1</td>\n",
              "      <td>0</td>\n",
              "      <td>228</td>\n",
              "    </tr>\n",
              "    <tr>\n",
              "      <th>131.0</th>\n",
              "      <td>1</td>\n",
              "      <td>0</td>\n",
              "      <td>1</td>\n",
              "      <td>0</td>\n",
              "      <td>227</td>\n",
              "    </tr>\n",
              "    <tr>\n",
              "      <th>169.0</th>\n",
              "      <td>1</td>\n",
              "      <td>1</td>\n",
              "      <td>0</td>\n",
              "      <td>0</td>\n",
              "      <td>226</td>\n",
              "    </tr>\n",
              "    <tr>\n",
              "      <th>238.0</th>\n",
              "      <td>1</td>\n",
              "      <td>1</td>\n",
              "      <td>0</td>\n",
              "      <td>0</td>\n",
              "      <td>225</td>\n",
              "    </tr>\n",
              "    <tr>\n",
              "      <th>...</th>\n",
              "      <td>...</td>\n",
              "      <td>...</td>\n",
              "      <td>...</td>\n",
              "      <td>...</td>\n",
              "      <td>...</td>\n",
              "    </tr>\n",
              "    <tr>\n",
              "      <th>1500.0</th>\n",
              "      <td>4</td>\n",
              "      <td>3</td>\n",
              "      <td>1</td>\n",
              "      <td>0</td>\n",
              "      <td>9</td>\n",
              "    </tr>\n",
              "    <tr>\n",
              "      <th>2200.0</th>\n",
              "      <td>1</td>\n",
              "      <td>1</td>\n",
              "      <td>0</td>\n",
              "      <td>0</td>\n",
              "      <td>5</td>\n",
              "    </tr>\n",
              "    <tr>\n",
              "      <th>2350.0</th>\n",
              "      <td>1</td>\n",
              "      <td>0</td>\n",
              "      <td>1</td>\n",
              "      <td>0</td>\n",
              "      <td>4</td>\n",
              "    </tr>\n",
              "    <tr>\n",
              "      <th>2450.0</th>\n",
              "      <td>2</td>\n",
              "      <td>1</td>\n",
              "      <td>1</td>\n",
              "      <td>0</td>\n",
              "      <td>3</td>\n",
              "    </tr>\n",
              "    <tr>\n",
              "      <th>2600.0</th>\n",
              "      <td>1</td>\n",
              "      <td>1</td>\n",
              "      <td>0</td>\n",
              "      <td>0</td>\n",
              "      <td>1</td>\n",
              "    </tr>\n",
              "  </tbody>\n",
              "</table>\n",
              "<p>62 rows × 5 columns</p>\n",
              "</div>"
            ],
            "text/plain": [
              "          removed  observed  censored  entrance  at_risk\n",
              "event_at                                                \n",
              "0.0             0         0         0       228      228\n",
              "96.0            1         0         1         0      228\n",
              "131.0           1         0         1         0      227\n",
              "169.0           1         1         0         0      226\n",
              "238.0           1         1         0         0      225\n",
              "...           ...       ...       ...       ...      ...\n",
              "1500.0          4         3         1         0        9\n",
              "2200.0          1         1         0         0        5\n",
              "2350.0          1         0         1         0        4\n",
              "2450.0          2         1         1         0        3\n",
              "2600.0          1         1         0         0        1\n",
              "\n",
              "[62 rows x 5 columns]"
            ]
          },
          "metadata": {
            "tags": []
          },
          "execution_count": 60
        }
      ]
    },
    {
      "cell_type": "code",
      "metadata": {
        "id": "dacnI8Zirp2o",
        "colab_type": "code",
        "colab": {
          "base_uri": "https://localhost:8080/",
          "height": 34
        },
        "outputId": "f897be70-0664-4189-dfe1-8cdbef137419"
      },
      "source": [
        "event_at_0 = kmf.event_table.iloc[0,:]\n",
        "surv_for_0 = (event_at_0.at_risk - event_at_0.observed)/event_at_0.at_risk\n",
        "surv_for_0"
      ],
      "execution_count": 41,
      "outputs": [
        {
          "output_type": "execute_result",
          "data": {
            "text/plain": [
              "1.0"
            ]
          },
          "metadata": {
            "tags": []
          },
          "execution_count": 41
        }
      ]
    },
    {
      "cell_type": "code",
      "metadata": {
        "id": "UHdcwV46tV2x",
        "colab_type": "code",
        "colab": {
          "base_uri": "https://localhost:8080/",
          "height": 34
        },
        "outputId": "a12fb802-254a-4cb3-9bb8-1093ab5f03fc"
      },
      "source": [
        "event_at_5 = kmf.event_table.iloc[1,:]\n",
        "surv_for_5 = (event_at_5.at_risk - event_at_5.observed)/event_at_5.at_risk\n",
        "surv_for_5"
      ],
      "execution_count": 42,
      "outputs": [
        {
          "output_type": "execute_result",
          "data": {
            "text/plain": [
              "1.0"
            ]
          },
          "metadata": {
            "tags": []
          },
          "execution_count": 42
        }
      ]
    },
    {
      "cell_type": "code",
      "metadata": {
        "id": "00Vyklk4tcHR",
        "colab_type": "code",
        "colab": {
          "base_uri": "https://localhost:8080/",
          "height": 34
        },
        "outputId": "bad2e1ba-f8e6-45db-e34d-b31a10840918"
      },
      "source": [
        "event_at_11 = kmf.event_table.iloc[2,:]\n",
        "surv_for_11 = (event_at_11.at_risk - event_at_11.observed)/event_at_11.at_risk\n",
        "surv_for_11"
      ],
      "execution_count": 43,
      "outputs": [
        {
          "output_type": "execute_result",
          "data": {
            "text/plain": [
              "0.995575221238938"
            ]
          },
          "metadata": {
            "tags": []
          },
          "execution_count": 43
        }
      ]
    },
    {
      "cell_type": "code",
      "metadata": {
        "id": "1Y0EeQJhtyP9",
        "colab_type": "code",
        "colab": {}
      },
      "source": [
        "surv_after_5 = surv_for_0 * surv_for_5\n",
        "surv_after_11 = surv_for_0 * surv_for_5 * surv_for_11"
      ],
      "execution_count": 33,
      "outputs": []
    },
    {
      "cell_type": "code",
      "metadata": {
        "id": "FWR5a_B_uKmA",
        "colab_type": "code",
        "colab": {
          "base_uri": "https://localhost:8080/",
          "height": 51
        },
        "outputId": "af531aed-a7d1-4f25-de3f-6c37888bd860"
      },
      "source": [
        "print(surv_after_5)\n",
        "print(surv_after_11)"
      ],
      "execution_count": 34,
      "outputs": [
        {
          "output_type": "stream",
          "text": [
            "0.9956140350877193\n",
            "0.9824561403508771\n"
          ],
          "name": "stdout"
        }
      ]
    },
    {
      "cell_type": "code",
      "metadata": {
        "id": "VF-laDs0uT9-",
        "colab_type": "code",
        "colab": {
          "base_uri": "https://localhost:8080/",
          "height": 450
        },
        "outputId": "3aabd9b6-92b8-4edf-e83e-82c9a80fcb69"
      },
      "source": [
        "kmf.survival_function_"
      ],
      "execution_count": 61,
      "outputs": [
        {
          "output_type": "execute_result",
          "data": {
            "text/html": [
              "<div>\n",
              "<style scoped>\n",
              "    .dataframe tbody tr th:only-of-type {\n",
              "        vertical-align: middle;\n",
              "    }\n",
              "\n",
              "    .dataframe tbody tr th {\n",
              "        vertical-align: top;\n",
              "    }\n",
              "\n",
              "    .dataframe thead th {\n",
              "        text-align: right;\n",
              "    }\n",
              "</style>\n",
              "<table border=\"1\" class=\"dataframe\">\n",
              "  <thead>\n",
              "    <tr style=\"text-align: right;\">\n",
              "      <th></th>\n",
              "      <th>KM_estimate</th>\n",
              "    </tr>\n",
              "    <tr>\n",
              "      <th>timeline</th>\n",
              "      <th></th>\n",
              "    </tr>\n",
              "  </thead>\n",
              "  <tbody>\n",
              "    <tr>\n",
              "      <th>0.0</th>\n",
              "      <td>1.000000</td>\n",
              "    </tr>\n",
              "    <tr>\n",
              "      <th>96.0</th>\n",
              "      <td>1.000000</td>\n",
              "    </tr>\n",
              "    <tr>\n",
              "      <th>131.0</th>\n",
              "      <td>1.000000</td>\n",
              "    </tr>\n",
              "    <tr>\n",
              "      <th>169.0</th>\n",
              "      <td>0.995575</td>\n",
              "    </tr>\n",
              "    <tr>\n",
              "      <th>238.0</th>\n",
              "      <td>0.991150</td>\n",
              "    </tr>\n",
              "    <tr>\n",
              "      <th>...</th>\n",
              "      <td>...</td>\n",
              "    </tr>\n",
              "    <tr>\n",
              "      <th>1500.0</th>\n",
              "      <td>0.064371</td>\n",
              "    </tr>\n",
              "    <tr>\n",
              "      <th>2200.0</th>\n",
              "      <td>0.051497</td>\n",
              "    </tr>\n",
              "    <tr>\n",
              "      <th>2350.0</th>\n",
              "      <td>0.051497</td>\n",
              "    </tr>\n",
              "    <tr>\n",
              "      <th>2450.0</th>\n",
              "      <td>0.034331</td>\n",
              "    </tr>\n",
              "    <tr>\n",
              "      <th>2600.0</th>\n",
              "      <td>0.000000</td>\n",
              "    </tr>\n",
              "  </tbody>\n",
              "</table>\n",
              "<p>62 rows × 1 columns</p>\n",
              "</div>"
            ],
            "text/plain": [
              "          KM_estimate\n",
              "timeline             \n",
              "0.0          1.000000\n",
              "96.0         1.000000\n",
              "131.0        1.000000\n",
              "169.0        0.995575\n",
              "238.0        0.991150\n",
              "...               ...\n",
              "1500.0       0.064371\n",
              "2200.0       0.051497\n",
              "2350.0       0.051497\n",
              "2450.0       0.034331\n",
              "2600.0       0.000000\n",
              "\n",
              "[62 rows x 1 columns]"
            ]
          },
          "metadata": {
            "tags": []
          },
          "execution_count": 61
        }
      ]
    },
    {
      "cell_type": "code",
      "metadata": {
        "id": "CvmHoTE7upHD",
        "colab_type": "code",
        "colab": {
          "base_uri": "https://localhost:8080/",
          "height": 34
        },
        "outputId": "a78645d3-8aae-4a75-c2f8-aa1dd5f5bbe0"
      },
      "source": [
        "kmf.median_survival_time_"
      ],
      "execution_count": 62,
      "outputs": [
        {
          "output_type": "execute_result",
          "data": {
            "text/plain": [
              "1025.0"
            ]
          },
          "metadata": {
            "tags": []
          },
          "execution_count": 62
        }
      ]
    },
    {
      "cell_type": "code",
      "metadata": {
        "id": "Ent985sGu-57",
        "colab_type": "code",
        "colab": {
          "base_uri": "https://localhost:8080/",
          "height": 296
        },
        "outputId": "631ca66f-d699-4d7f-adde-6a22a6d7c3ee"
      },
      "source": [
        "kmf.plot()"
      ],
      "execution_count": 69,
      "outputs": [
        {
          "output_type": "execute_result",
          "data": {
            "text/plain": [
              "<matplotlib.axes._subplots.AxesSubplot at 0x7fd914885400>"
            ]
          },
          "metadata": {
            "tags": []
          },
          "execution_count": 69
        },
        {
          "output_type": "display_data",
          "data": {
            "image/png": "[encoded data removed]",
            "text/plain": [
              "<Figure size 432x288 with 1 Axes>"
            ]
          },
          "metadata": {
            "tags": [],
            "needs_background": "light"
          }
        }
      ]
    },
    {
      "cell_type": "code",
      "metadata": {
        "id": "aWOkOH6EvQQ8",
        "colab_type": "code",
        "colab": {
          "base_uri": "https://localhost:8080/",
          "height": 419
        },
        "outputId": "ef810deb-d175-432e-bfb2-f6ddd780d91d"
      },
      "source": [
        "kmf.confidence_interval_"
      ],
      "execution_count": 70,
      "outputs": [
        {
          "output_type": "execute_result",
          "data": {
            "text/html": [
              "<div>\n",
              "<style scoped>\n",
              "    .dataframe tbody tr th:only-of-type {\n",
              "        vertical-align: middle;\n",
              "    }\n",
              "\n",
              "    .dataframe tbody tr th {\n",
              "        vertical-align: top;\n",
              "    }\n",
              "\n",
              "    .dataframe thead th {\n",
              "        text-align: right;\n",
              "    }\n",
              "</style>\n",
              "<table border=\"1\" class=\"dataframe\">\n",
              "  <thead>\n",
              "    <tr style=\"text-align: right;\">\n",
              "      <th></th>\n",
              "      <th>KM_estimate_lower_0.95</th>\n",
              "      <th>KM_estimate_upper_0.95</th>\n",
              "    </tr>\n",
              "  </thead>\n",
              "  <tbody>\n",
              "    <tr>\n",
              "      <th>0.0</th>\n",
              "      <td>1.000000</td>\n",
              "      <td>1.000000</td>\n",
              "    </tr>\n",
              "    <tr>\n",
              "      <th>5.0</th>\n",
              "      <td>0.969277</td>\n",
              "      <td>0.999381</td>\n",
              "    </tr>\n",
              "    <tr>\n",
              "      <th>11.0</th>\n",
              "      <td>0.953935</td>\n",
              "      <td>0.993379</td>\n",
              "    </tr>\n",
              "    <tr>\n",
              "      <th>12.0</th>\n",
              "      <td>0.948120</td>\n",
              "      <td>0.990813</td>\n",
              "    </tr>\n",
              "    <tr>\n",
              "      <th>13.0</th>\n",
              "      <td>0.936682</td>\n",
              "      <td>0.985244</td>\n",
              "    </tr>\n",
              "    <tr>\n",
              "      <th>...</th>\n",
              "      <td>...</td>\n",
              "      <td>...</td>\n",
              "    </tr>\n",
              "    <tr>\n",
              "      <th>840.0</th>\n",
              "      <td>0.030728</td>\n",
              "      <td>0.123060</td>\n",
              "    </tr>\n",
              "    <tr>\n",
              "      <th>883.0</th>\n",
              "      <td>0.017866</td>\n",
              "      <td>0.108662</td>\n",
              "    </tr>\n",
              "    <tr>\n",
              "      <th>965.0</th>\n",
              "      <td>0.017866</td>\n",
              "      <td>0.108662</td>\n",
              "    </tr>\n",
              "    <tr>\n",
              "      <th>1010.0</th>\n",
              "      <td>0.017866</td>\n",
              "      <td>0.108662</td>\n",
              "    </tr>\n",
              "    <tr>\n",
              "      <th>1022.0</th>\n",
              "      <td>0.017866</td>\n",
              "      <td>0.108662</td>\n",
              "    </tr>\n",
              "  </tbody>\n",
              "</table>\n",
              "<p>187 rows × 2 columns</p>\n",
              "</div>"
            ],
            "text/plain": [
              "        KM_estimate_lower_0.95  KM_estimate_upper_0.95\n",
              "0.0                   1.000000                1.000000\n",
              "5.0                   0.969277                0.999381\n",
              "11.0                  0.953935                0.993379\n",
              "12.0                  0.948120                0.990813\n",
              "13.0                  0.936682                0.985244\n",
              "...                        ...                     ...\n",
              "840.0                 0.030728                0.123060\n",
              "883.0                 0.017866                0.108662\n",
              "965.0                 0.017866                0.108662\n",
              "1010.0                0.017866                0.108662\n",
              "1022.0                0.017866                0.108662\n",
              "\n",
              "[187 rows x 2 columns]"
            ]
          },
          "metadata": {
            "tags": []
          },
          "execution_count": 70
        }
      ]
    },
    {
      "cell_type": "code",
      "metadata": {
        "id": "NLm6Id22vzxN",
        "colab_type": "code",
        "colab": {
          "base_uri": "https://localhost:8080/",
          "height": 450
        },
        "outputId": "029e0d02-fe52-494c-c32d-a6ddfd3da144"
      },
      "source": [
        "kmf.cumulative_density_"
      ],
      "execution_count": 65,
      "outputs": [
        {
          "output_type": "execute_result",
          "data": {
            "text/html": [
              "<div>\n",
              "<style scoped>\n",
              "    .dataframe tbody tr th:only-of-type {\n",
              "        vertical-align: middle;\n",
              "    }\n",
              "\n",
              "    .dataframe tbody tr th {\n",
              "        vertical-align: top;\n",
              "    }\n",
              "\n",
              "    .dataframe thead th {\n",
              "        text-align: right;\n",
              "    }\n",
              "</style>\n",
              "<table border=\"1\" class=\"dataframe\">\n",
              "  <thead>\n",
              "    <tr style=\"text-align: right;\">\n",
              "      <th></th>\n",
              "      <th>KM_estimate</th>\n",
              "    </tr>\n",
              "    <tr>\n",
              "      <th>timeline</th>\n",
              "      <th></th>\n",
              "    </tr>\n",
              "  </thead>\n",
              "  <tbody>\n",
              "    <tr>\n",
              "      <th>0.0</th>\n",
              "      <td>0.000000</td>\n",
              "    </tr>\n",
              "    <tr>\n",
              "      <th>96.0</th>\n",
              "      <td>0.000000</td>\n",
              "    </tr>\n",
              "    <tr>\n",
              "      <th>131.0</th>\n",
              "      <td>0.000000</td>\n",
              "    </tr>\n",
              "    <tr>\n",
              "      <th>169.0</th>\n",
              "      <td>0.004425</td>\n",
              "    </tr>\n",
              "    <tr>\n",
              "      <th>238.0</th>\n",
              "      <td>0.008850</td>\n",
              "    </tr>\n",
              "    <tr>\n",
              "      <th>...</th>\n",
              "      <td>...</td>\n",
              "    </tr>\n",
              "    <tr>\n",
              "      <th>1500.0</th>\n",
              "      <td>0.935629</td>\n",
              "    </tr>\n",
              "    <tr>\n",
              "      <th>2200.0</th>\n",
              "      <td>0.948503</td>\n",
              "    </tr>\n",
              "    <tr>\n",
              "      <th>2350.0</th>\n",
              "      <td>0.948503</td>\n",
              "    </tr>\n",
              "    <tr>\n",
              "      <th>2450.0</th>\n",
              "      <td>0.965669</td>\n",
              "    </tr>\n",
              "    <tr>\n",
              "      <th>2600.0</th>\n",
              "      <td>1.000000</td>\n",
              "    </tr>\n",
              "  </tbody>\n",
              "</table>\n",
              "<p>62 rows × 1 columns</p>\n",
              "</div>"
            ],
            "text/plain": [
              "          KM_estimate\n",
              "timeline             \n",
              "0.0          0.000000\n",
              "96.0         0.000000\n",
              "131.0        0.000000\n",
              "169.0        0.004425\n",
              "238.0        0.008850\n",
              "...               ...\n",
              "1500.0       0.935629\n",
              "2200.0       0.948503\n",
              "2350.0       0.948503\n",
              "2450.0       0.965669\n",
              "2600.0       1.000000\n",
              "\n",
              "[62 rows x 1 columns]"
            ]
          },
          "metadata": {
            "tags": []
          },
          "execution_count": 65
        }
      ]
    },
    {
      "cell_type": "code",
      "metadata": {
        "id": "UMF74kdev5Hr",
        "colab_type": "code",
        "colab": {
          "base_uri": "https://localhost:8080/",
          "height": 296
        },
        "outputId": "d20246c5-98f4-4bf5-efc3-835803bc34a4"
      },
      "source": [
        "kmf.plot_cumulative_density()"
      ],
      "execution_count": 71,
      "outputs": [
        {
          "output_type": "execute_result",
          "data": {
            "text/plain": [
              "<matplotlib.axes._subplots.AxesSubplot at 0x7fd914847c18>"
            ]
          },
          "metadata": {
            "tags": []
          },
          "execution_count": 71
        },
        {
          "output_type": "display_data",
          "data": {
            "image/png": "[encoded data removed]",
            "text/plain": [
              "<Figure size 432x288 with 1 Axes>"
            ]
          },
          "metadata": {
            "tags": [],
            "needs_background": "light"
          }
        }
      ]
    },
    {
      "cell_type": "code",
      "metadata": {
        "id": "qDlx6EuiwGS-",
        "colab_type": "code",
        "colab": {
          "base_uri": "https://localhost:8080/",
          "height": 34
        },
        "outputId": "8ea8428f-3c4f-481e-adf0-bcab832a7201"
      },
      "source": [
        "from lifelines import NelsonAalenFitter\n",
        "naf = NelsonAalenFitter()\n",
        "naf.fit(data['time'], event_observed = data['dead'])"
      ],
      "execution_count": 49,
      "outputs": [
        {
          "output_type": "execute_result",
          "data": {
            "text/plain": [
              "<lifelines.NelsonAalenFitter:\"NA_estimate\", fitted with 228 total observations, 63 right-censored observations>"
            ]
          },
          "metadata": {
            "tags": []
          },
          "execution_count": 49
        }
      ]
    },
    {
      "cell_type": "code",
      "metadata": {
        "id": "FZTIRdE5xAIS",
        "colab_type": "code",
        "colab": {}
      },
      "source": [
        "naf.event_table"
      ],
      "execution_count": null,
      "outputs": []
    },
    {
      "cell_type": "code",
      "metadata": {
        "id": "i9hlMUVaxKrT",
        "colab_type": "code",
        "colab": {
          "base_uri": "https://localhost:8080/",
          "height": 450
        },
        "outputId": "dd9243d4-21ab-4752-a9fb-37ff815c7df6"
      },
      "source": [
        "naf.cumulative_hazard_"
      ],
      "execution_count": 51,
      "outputs": [
        {
          "output_type": "execute_result",
          "data": {
            "text/html": [
              "<div>\n",
              "<style scoped>\n",
              "    .dataframe tbody tr th:only-of-type {\n",
              "        vertical-align: middle;\n",
              "    }\n",
              "\n",
              "    .dataframe tbody tr th {\n",
              "        vertical-align: top;\n",
              "    }\n",
              "\n",
              "    .dataframe thead th {\n",
              "        text-align: right;\n",
              "    }\n",
              "</style>\n",
              "<table border=\"1\" class=\"dataframe\">\n",
              "  <thead>\n",
              "    <tr style=\"text-align: right;\">\n",
              "      <th></th>\n",
              "      <th>NA_estimate</th>\n",
              "    </tr>\n",
              "    <tr>\n",
              "      <th>timeline</th>\n",
              "      <th></th>\n",
              "    </tr>\n",
              "  </thead>\n",
              "  <tbody>\n",
              "    <tr>\n",
              "      <th>0.0</th>\n",
              "      <td>0.000000</td>\n",
              "    </tr>\n",
              "    <tr>\n",
              "      <th>5.0</th>\n",
              "      <td>0.004386</td>\n",
              "    </tr>\n",
              "    <tr>\n",
              "      <th>11.0</th>\n",
              "      <td>0.017660</td>\n",
              "    </tr>\n",
              "    <tr>\n",
              "      <th>12.0</th>\n",
              "      <td>0.022125</td>\n",
              "    </tr>\n",
              "    <tr>\n",
              "      <th>13.0</th>\n",
              "      <td>0.031114</td>\n",
              "    </tr>\n",
              "    <tr>\n",
              "      <th>...</th>\n",
              "      <td>...</td>\n",
              "    </tr>\n",
              "    <tr>\n",
              "      <th>840.0</th>\n",
              "      <td>2.641565</td>\n",
              "    </tr>\n",
              "    <tr>\n",
              "      <th>883.0</th>\n",
              "      <td>2.891565</td>\n",
              "    </tr>\n",
              "    <tr>\n",
              "      <th>965.0</th>\n",
              "      <td>2.891565</td>\n",
              "    </tr>\n",
              "    <tr>\n",
              "      <th>1010.0</th>\n",
              "      <td>2.891565</td>\n",
              "    </tr>\n",
              "    <tr>\n",
              "      <th>1022.0</th>\n",
              "      <td>2.891565</td>\n",
              "    </tr>\n",
              "  </tbody>\n",
              "</table>\n",
              "<p>187 rows × 1 columns</p>\n",
              "</div>"
            ],
            "text/plain": [
              "          NA_estimate\n",
              "timeline             \n",
              "0.0          0.000000\n",
              "5.0          0.004386\n",
              "11.0         0.017660\n",
              "12.0         0.022125\n",
              "13.0         0.031114\n",
              "...               ...\n",
              "840.0        2.641565\n",
              "883.0        2.891565\n",
              "965.0        2.891565\n",
              "1010.0       2.891565\n",
              "1022.0       2.891565\n",
              "\n",
              "[187 rows x 1 columns]"
            ]
          },
          "metadata": {
            "tags": []
          },
          "execution_count": 51
        }
      ]
    },
    {
      "cell_type": "code",
      "metadata": {
        "id": "JKNmosTZxSQG",
        "colab_type": "code",
        "colab": {
          "base_uri": "https://localhost:8080/",
          "height": 299
        },
        "outputId": "65b25275-f830-48be-9da4-5fbf7971c447"
      },
      "source": [
        "naf.plot_cumulative_hazard()"
      ],
      "execution_count": 55,
      "outputs": [
        {
          "output_type": "execute_result",
          "data": {
            "text/plain": [
              "<matplotlib.axes._subplots.AxesSubplot at 0x7f95fd2a7400>"
            ]
          },
          "metadata": {
            "tags": []
          },
          "execution_count": 55
        },
        {
          "output_type": "display_data",
          "data": {
            "image/png": "[encoded data removed]",
            "text/plain": [
              "<Figure size 432x288 with 1 Axes>"
            ]
          },
          "metadata": {
            "tags": [],
            "needs_background": "light"
          }
        }
      ]
    }
  ]
}